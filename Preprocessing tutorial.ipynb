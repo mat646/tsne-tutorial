{
 "cells": [
  {
   "cell_type": "markdown",
   "metadata": {},
   "source": [
    "# Imports"
   ]
  },
  {
   "cell_type": "code",
   "execution_count": 44,
   "metadata": {},
   "outputs": [
    {
     "name": "stdout",
     "output_type": "stream",
     "text": [
      "[nltk_data] Downloading package punkt to /Users/filipdej/nltk_data...\n",
      "[nltk_data]   Package punkt is already up-to-date!\n",
      "[nltk_data] Downloading package stopwords to\n",
      "[nltk_data]     /Users/filipdej/nltk_data...\n",
      "[nltk_data]   Package stopwords is already up-to-date!\n"
     ]
    }
   ],
   "source": [
    "import nltk\n",
    "nltk.download('punkt')\n",
    "from nltk.tokenize import sent_tokenize, word_tokenize\n",
    "nltk.download('stopwords')\n",
    "from nltk.corpus import stopwords\n",
    "from nltk.stem.snowball import SnowballStemmer\n",
    "from sklearn.feature_extraction.text import CountVectorizer, TfidfVectorizer\n",
    "import numpy as np"
   ]
  },
  {
   "cell_type": "markdown",
   "metadata": {},
   "source": [
    "# Data and tokenization"
   ]
  },
  {
   "cell_type": "code",
   "execution_count": 86,
   "metadata": {},
   "outputs": [
    {
     "name": "stdout",
     "output_type": "stream",
     "text": [
      "In a hole in the ground there lived a hobbit Not a nasty dirty wet hole filled with the ends of worms and an oozy smell nor yet a dry bare sandy hole with nothing in it to sit down on or to eat it was a hobbit hole and that means comfort \n",
      "\n",
      " ['In', 'a', 'hole', 'in', 'the', 'ground', 'there', 'lived', 'a', 'hobbit', 'Not', 'a', 'nasty', 'dirty', 'wet', 'hole', 'filled', 'with', 'the', 'ends', 'of', 'worms', 'and', 'an', 'oozy', 'smell', 'nor', 'yet', 'a', 'dry', 'bare', 'sandy', 'hole', 'with', 'nothing', 'in', 'it', 'to', 'sit', 'down', 'on', 'or', 'to', 'eat', 'it', 'was', 'a', 'hobbit', 'hole', 'and', 'that', 'means', 'comfort']\n"
     ]
    }
   ],
   "source": [
    "data = \"In a hole in the ground there lived a hobbit Not a nasty dirty wet hole filled with the ends of worms and an oozy smell nor yet a dry bare sandy hole with nothing in it to sit down on or to eat it was a hobbit hole and that means comfort\"\n",
    "words = word_tokenize(data)\n",
    "print(data,\"\\n\\n\", words)"
   ]
  },
  {
   "cell_type": "markdown",
   "metadata": {},
   "source": [
    "# Stop words\n",
    "\n",
    "Getting rid of excessive words"
   ]
  },
  {
   "cell_type": "code",
   "execution_count": 3,
   "metadata": {},
   "outputs": [
    {
     "name": "stdout",
     "output_type": "stream",
     "text": [
      "['In', 'hole', 'ground', 'lived', 'hobbit', 'Not', 'nasty', 'dirty', 'wet', 'hole', 'filled', 'ends', 'worms', 'oozy', 'smell', 'yet', 'dry', 'bare', 'sandy', 'hole', 'nothing', 'sit', 'eat', 'hobbit', 'hole', 'means', 'comfort']\n"
     ]
    }
   ],
   "source": [
    "stopWords = set(stopwords.words('english'))\n",
    "words = word_tokenize(data)\n",
    "words_filtered = [w for w in words if w not in stopWords]\n",
    "print(words_filtered)"
   ]
  },
  {
   "cell_type": "code",
   "execution_count": 6,
   "metadata": {},
   "outputs": [
    {
     "data": {
      "text/plain": [
       "{'a',\n",
       " 'an',\n",
       " 'and',\n",
       " 'down',\n",
       " 'in',\n",
       " 'it',\n",
       " 'nor',\n",
       " 'of',\n",
       " 'on',\n",
       " 'or',\n",
       " 'that',\n",
       " 'the',\n",
       " 'there',\n",
       " 'to',\n",
       " 'was',\n",
       " 'with'}"
      ]
     },
     "execution_count": 6,
     "metadata": {},
     "output_type": "execute_result"
    }
   ],
   "source": [
    "set(words) - set(words_filtered)"
   ]
  },
  {
   "cell_type": "markdown",
   "metadata": {},
   "source": [
    "# Stemming\n",
    "\n",
    "Getting rid of word ends"
   ]
  },
  {
   "cell_type": "code",
   "execution_count": 7,
   "metadata": {},
   "outputs": [
    {
     "name": "stdout",
     "output_type": "stream",
     "text": [
      "['in', 'hole', 'ground', 'live', 'hobbit', 'not', 'nasti', 'dirti', 'wet', 'hole', 'fill', 'end', 'worm', 'oozi', 'smell', 'yet', 'dri', 'bare', 'sandi', 'hole', 'noth', 'sit', 'eat', 'hobbit', 'hole', 'mean', 'comfort']\n"
     ]
    }
   ],
   "source": [
    "ps = SnowballStemmer('english')\n",
    "words_stemmed = [ps.stem(w) for w in words_filtered]\n",
    "print(words_stemmed)"
   ]
  },
  {
   "cell_type": "markdown",
   "metadata": {},
   "source": [
    "# Bag of Words\n",
    "\n",
    "Simple document vectorization\n",
    "\n",
    "https://en.wikipedia.org/wiki/Bag-of-words_model"
   ]
  },
  {
   "cell_type": "code",
   "execution_count": 83,
   "metadata": {},
   "outputs": [
    {
     "name": "stdout",
     "output_type": "stream",
     "text": [
      "John likes icecream :\n",
      "{'game': 0, 'icecream': 1, 'john': 1, 'likes': 1, 'plays': 0, 'sarah': 0} \n",
      "\n",
      "Sarah likes John John likes Sarah :\n",
      "{'game': 0, 'icecream': 0, 'john': 2, 'likes': 2, 'plays': 0, 'sarah': 2} \n",
      "\n",
      "John plays game :\n",
      "{'game': 1, 'icecream': 0, 'john': 1, 'likes': 0, 'plays': 1, 'sarah': 0} \n",
      "\n"
     ]
    }
   ],
   "source": [
    "data = ['John likes icecream', 'Sarah likes John John likes Sarah', 'John plays game']\n",
    "\n",
    "vectorizer = CountVectorizer()\n",
    "Y = vectorizer.fit_transform(data)\n",
    "\n",
    "for text_repr,text in zip(Y,data):\n",
    "    print(text,\":\")\n",
    "    print(dict(zip(vectorizer.get_feature_names(), *text_repr.toarray())),\"\\n\")"
   ]
  },
  {
   "cell_type": "markdown",
   "metadata": {},
   "source": [
    "# Tf-idf \n",
    "\n",
    "Wise document vectorization\n",
    "\n",
    "https://en.wikipedia.org/wiki/Tf–idf"
   ]
  },
  {
   "cell_type": "code",
   "execution_count": 80,
   "metadata": {},
   "outputs": [
    {
     "name": "stdout",
     "output_type": "stream",
     "text": [
      "John likes icecream :\n",
      "{'game': 0.0, 'icecream': 0.7203334490549893, 'john': 0.4254405389711991, 'like': 0.5478321549274363, 'play': 0.0, 'sarah': 0.0} \n",
      "\n",
      "Sarah likes John John likes Sarah :\n",
      "{'game': 0.0, 'icecream': 0.0, 'john': 0.4254405389711991, 'like': 0.5478321549274363, 'play': 0.0, 'sarah': 0.7203334490549893} \n",
      "\n",
      "John plays game :\n",
      "{'game': 0.652490884512534, 'icecream': 0.0, 'john': 0.3853716274664007, 'like': 0.0, 'play': 0.652490884512534, 'sarah': 0.0} \n",
      "\n"
     ]
    }
   ],
   "source": [
    "data = ['John likes icecream', 'Sarah likes John John likes Sarah', 'John plays game']\n",
    "stemmer = SnowballStemmer('english')\n",
    "analyzer = TfidfVectorizer().build_analyzer()\n",
    "def stemmed_words(doc):\n",
    "    return (stemmer.stem(w) for w in analyzer(doc))\n",
    "\n",
    "vectorizer = TfidfVectorizer(stop_words='english', analyzer=stemmed_words)\n",
    "Y = vectorizer.fit_transform(data).todense()\n",
    "\n",
    "for text_repr,text in zip(Y,data):\n",
    "    print(text,\":\")\n",
    "    print(dict(zip(vectorizer.get_feature_names(), *np.asarray(text_repr))),\"\\n\")"
   ]
  }
 ],
 "metadata": {
  "kernelspec": {
   "display_name": "Python 3",
   "language": "python",
   "name": "python3"
  },
  "language_info": {
   "codemirror_mode": {
    "name": "ipython",
    "version": 3
   },
   "file_extension": ".py",
   "mimetype": "text/x-python",
   "name": "python",
   "nbconvert_exporter": "python",
   "pygments_lexer": "ipython3",
   "version": "3.6.2"
  }
 },
 "nbformat": 4,
 "nbformat_minor": 2
}
